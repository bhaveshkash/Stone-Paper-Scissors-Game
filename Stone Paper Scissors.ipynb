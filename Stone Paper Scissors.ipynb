{
 "cells": [
  {
   "cell_type": "code",
   "execution_count": 23,
   "metadata": {},
   "outputs": [
    {
     "name": "stdout",
     "output_type": "stream",
     "text": [
      "Computer Turn: Rock(1) Paper(2) Scissors(3) ?\n",
      "Your Turn: Rock(1) Paper(2) Scissors(3) ?r\n",
      "Computer Chose p\n",
      "You Chose r\n",
      "You Lose \n"
     ]
    }
   ],
   "source": [
    "import random\n",
    "def gameWin(comp,you):\n",
    "    if comp ==you:\n",
    "        return None\n",
    "    elif comp=='r':\n",
    "        if you=='s':\n",
    "            return False\n",
    "        elif you=='p':\n",
    "            return True\n",
    "    elif comp=='s':\n",
    "        if you=='p':\n",
    "            return False\n",
    "        elif you=='r':\n",
    "            return True\n",
    "    elif comp=='p':\n",
    "        if you=='r':\n",
    "            return False\n",
    "        elif you=='s':\n",
    "            return True\n",
    "        \n",
    "randno = random.randint(1,3)\n",
    "print(\"Computer Turn: Rock(1) Paper(2) Scissors(3) ?\")\n",
    "\n",
    "if randno==1:\n",
    "    comp='r'\n",
    "elif randno==2:\n",
    "    comp='p'\n",
    "elif randno==3:\n",
    "    comp='s'\n",
    "\n",
    "\n",
    "you = input(\"Your Turn: Rock(1) Paper(2) Scissors(3) ?\")\n",
    "\n",
    "a=gameWin(comp,you)  \n",
    "print(f\"Computer Chose {comp}\")\n",
    "print(f\"You Chose {you}\")\n",
    "\n",
    "if a == None :\n",
    "    print(\"The Game is a Tie \")\n",
    "elif a:\n",
    "    print(\"You Won\")\n",
    "else :\n",
    "    print(\"You Lose \")\n",
    "    "
   ]
  },
  {
   "cell_type": "code",
   "execution_count": null,
   "metadata": {},
   "outputs": [],
   "source": []
  },
  {
   "cell_type": "code",
   "execution_count": null,
   "metadata": {},
   "outputs": [],
   "source": []
  },
  {
   "cell_type": "code",
   "execution_count": null,
   "metadata": {},
   "outputs": [],
   "source": []
  },
  {
   "cell_type": "code",
   "execution_count": null,
   "metadata": {},
   "outputs": [],
   "source": []
  },
  {
   "cell_type": "code",
   "execution_count": null,
   "metadata": {},
   "outputs": [],
   "source": []
  },
  {
   "cell_type": "code",
   "execution_count": null,
   "metadata": {},
   "outputs": [],
   "source": []
  },
  {
   "cell_type": "code",
   "execution_count": null,
   "metadata": {},
   "outputs": [],
   "source": []
  },
  {
   "cell_type": "code",
   "execution_count": null,
   "metadata": {},
   "outputs": [],
   "source": []
  },
  {
   "cell_type": "code",
   "execution_count": null,
   "metadata": {},
   "outputs": [],
   "source": []
  },
  {
   "cell_type": "code",
   "execution_count": null,
   "metadata": {},
   "outputs": [],
   "source": []
  },
  {
   "cell_type": "code",
   "execution_count": null,
   "metadata": {},
   "outputs": [],
   "source": []
  },
  {
   "cell_type": "code",
   "execution_count": null,
   "metadata": {},
   "outputs": [],
   "source": []
  },
  {
   "cell_type": "code",
   "execution_count": null,
   "metadata": {},
   "outputs": [],
   "source": []
  }
 ],
 "metadata": {
  "kernelspec": {
   "display_name": "Python 3",
   "language": "python",
   "name": "python3"
  },
  "language_info": {
   "codemirror_mode": {
    "name": "ipython",
    "version": 3
   },
   "file_extension": ".py",
   "mimetype": "text/x-python",
   "name": "python",
   "nbconvert_exporter": "python",
   "pygments_lexer": "ipython3",
   "version": "3.8.3"
  }
 },
 "nbformat": 4,
 "nbformat_minor": 4
}
